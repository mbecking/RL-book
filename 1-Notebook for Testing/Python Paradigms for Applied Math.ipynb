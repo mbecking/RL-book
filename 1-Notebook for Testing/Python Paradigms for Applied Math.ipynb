{
 "cells": [
  {
   "cell_type": "markdown",
   "metadata": {},
   "source": [
    "# Python Paradigms for Applied Math:\n",
    "\n",
    "This notebook is a summary of the presentation by Tikhon Jelvis (1-28-2021)"
   ]
  },
  {
   "cell_type": "markdown",
   "metadata": {},
   "source": []
  },
  {
   "cell_type": "code",
   "execution_count": 87,
   "metadata": {},
   "outputs": [
    {
     "data": {
      "text/plain": [
       "1.8375293696026058"
      ]
     },
     "execution_count": 87,
     "metadata": {},
     "output_type": "execute_result"
    }
   ],
   "source": [
    "import numpy as np\n",
    "np.random.uniform(2) # Gives a random sample from a UNIFORM distribution\n",
    "#Each time we call it we get different values"
   ]
  },
  {
   "cell_type": "markdown",
   "metadata": {},
   "source": [
    "This is a function that we use to get numbers, but we dont have a convinient way to look at distributions. For example np.random.uniform(2) is a function not an object.\n",
    "\n",
    "If we try a function to get the mean"
   ]
  },
  {
   "cell_type": "code",
   "execution_count": 88,
   "metadata": {},
   "outputs": [
    {
     "data": {
      "text/plain": [
       "0.5103917067484854"
      ]
     },
     "execution_count": 88,
     "metadata": {},
     "output_type": "execute_result"
    }
   ],
   "source": [
    "def mean(random):\n",
    "    samples = []\n",
    "    for _ in range(1000):\n",
    "        samples += [random()]\n",
    "        \n",
    "    return sum(samples)/len(samples)\n",
    "        \n",
    "    \n",
    "mean(np.random.uniform)"
   ]
  },
  {
   "cell_type": "markdown",
   "metadata": {},
   "source": [
    "We expect .5 since this is between 0 and 1. mean(np.random.uniform(2)) calls an error since it is now a value and not a function. The solution to this is to create an object that characterizes a distribution. "
   ]
  },
  {
   "cell_type": "code",
   "execution_count": 89,
   "metadata": {},
   "outputs": [
    {
     "data": {
      "text/plain": [
       "1.4769978566495636"
      ]
     },
     "execution_count": 89,
     "metadata": {},
     "output_type": "execute_result"
    }
   ],
   "source": [
    "mean(lambda: np.random.uniform(2))"
   ]
  },
  {
   "cell_type": "markdown",
   "metadata": {},
   "source": [
    "Define class that we can sample. Abstract class means that anything that looks like a distribution"
   ]
  },
  {
   "cell_type": "code",
   "execution_count": 90,
   "metadata": {},
   "outputs": [
    {
     "data": {
      "text/plain": [
       "1.0"
      ]
     },
     "execution_count": 90,
     "metadata": {},
     "output_type": "execute_result"
    }
   ],
   "source": [
    "from abc import ABC, abstractmethod\n",
    "\n",
    "class Distribution(ABC): #ABC Makes it an abstract class\n",
    "    @abstractmethod\n",
    "    def sample(self) -> float: #Methods in python always take self as the first argument. (returns a float)\n",
    "        \"\"\"This should return a single random sample from the distribution\"\"\"\n",
    "        pass\n",
    "    \n",
    "    def mean(self):\n",
    "        samples = []\n",
    "        for _ in range(1000):\n",
    "            samples += [self.sample()]\n",
    "\n",
    "        return sum(samples)/len(samples)\n",
    "\n",
    "class Uniform(Distribution):\n",
    "    def __init__(self, lower: float, upper: float):\n",
    "        self.lower = lower\n",
    "        self.upper = upper\n",
    "        \n",
    "    def sample(self) -> float:\n",
    "        return np.random.uniform(self.lower, self.upper)\n",
    "    \n",
    "    def mean(self) -> float: #Now this overwrites the mean class from the Abstract class. \n",
    "        return (self.upper+self.lower)/2\n",
    "    \n",
    "X = Uniform(lower=0,upper=2)\n",
    "X.sample()\n",
    "X.mean()"
   ]
  },
  {
   "cell_type": "markdown",
   "metadata": {},
   "source": [
    "Why does the Distribution have a sample class if we are just going to redefine it in the Uniform class?\n",
    "\n",
    "**if it has a @abstractmethod class above the method, that is telling us that we have to make it ourselves and it doesn't actually have that ability,but rather it is something that is required to use the other methods that are defined**\n",
    "\n",
    "\n"
   ]
  },
  {
   "cell_type": "code",
   "execution_count": 91,
   "metadata": {},
   "outputs": [],
   "source": [
    "from dataclasses import dataclass\n",
    "\n",
    "class Distribution(ABC): #ABC Makes it an abstract class\n",
    "    @abstractmethod\n",
    "    def sample(self) -> float: #Methods in python always take self as the first argument. (returns a float)\n",
    "        \"\"\"This should return a single random sample from the distribution\"\"\"\n",
    "        pass\n",
    "    \n",
    "    def mean(self):\n",
    "        samples = []\n",
    "        for _ in range(1000):\n",
    "            samples += [self.sample()]\n",
    "\n",
    "        return sum(samples)/len(samples)\n",
    "\n",
    "@dataclass                             ### Use dataclass since it is way better !!!!!!!!!!!!!!!(Skips __init__ and __repr__ )\n",
    "class Uniform(Distribution):\n",
    "    lower: float = 0\n",
    "    upper: float = 1\n",
    "        \n",
    "        \n",
    "    def sample(self) -> float:\n",
    "        return np.random.uniform(self.lower, self.upper)\n",
    "    \n",
    "    def mean(self) -> float: #Now this overwrites the mean class from the Abstract class. \n",
    "        return (self.upper+self.lower)/2\n",
    "    \n",
    "    \n",
    "    \n"
   ]
  },
  {
   "cell_type": "code",
   "execution_count": 116,
   "metadata": {},
   "outputs": [
    {
     "data": {
      "text/plain": [
       "1"
      ]
     },
     "execution_count": 116,
     "metadata": {},
     "output_type": "execute_result"
    }
   ],
   "source": [
    "X = Uniform() #Uses initial values.\n",
    "X.upper"
   ]
  },
  {
   "cell_type": "code",
   "execution_count": 93,
   "metadata": {},
   "outputs": [
    {
     "data": {
      "text/plain": [
       "Uniform(lower=0, upper=2)"
      ]
     },
     "execution_count": 93,
     "metadata": {},
     "output_type": "execute_result"
    }
   ],
   "source": [
    "X = Uniform(lower=0,upper=2)\n",
    "X"
   ]
  },
  {
   "cell_type": "code",
   "execution_count": 94,
   "metadata": {},
   "outputs": [],
   "source": [
    "def f(xs:list):\n",
    "    xs += [1]\n",
    "    return xs"
   ]
  },
  {
   "cell_type": "code",
   "execution_count": 95,
   "metadata": {},
   "outputs": [
    {
     "data": {
      "text/plain": [
       "[1, 2, 3, 1]"
      ]
     },
     "execution_count": 95,
     "metadata": {},
     "output_type": "execute_result"
    }
   ],
   "source": [
    "f([1,2,3])"
   ]
  },
  {
   "cell_type": "code",
   "execution_count": 96,
   "metadata": {},
   "outputs": [],
   "source": [
    "def f(xs=[]):\n",
    "    xs += [1]\n",
    "    return xs"
   ]
  },
  {
   "cell_type": "code",
   "execution_count": 97,
   "metadata": {},
   "outputs": [
    {
     "data": {
      "text/plain": [
       "[1]"
      ]
     },
     "execution_count": 97,
     "metadata": {},
     "output_type": "execute_result"
    }
   ],
   "source": [
    "f()"
   ]
  },
  {
   "cell_type": "code",
   "execution_count": 98,
   "metadata": {},
   "outputs": [
    {
     "data": {
      "text/plain": [
       "[1, 1]"
      ]
     },
     "execution_count": 98,
     "metadata": {},
     "output_type": "execute_result"
    }
   ],
   "source": [
    "f()"
   ]
  },
  {
   "cell_type": "markdown",
   "metadata": {},
   "source": [
    "Dont work with mutable parameters...\n",
    "\n",
    "\n",
    "### Sampling Distributions:"
   ]
  },
  {
   "cell_type": "code",
   "execution_count": 99,
   "metadata": {},
   "outputs": [],
   "source": [
    "from typing import Callable\n",
    "\n",
    "@dataclass\n",
    "class SampledDistribution(Distribution):\n",
    "    '''A distribution defined by a function to sample it.\n",
    "\n",
    "    '''\n",
    "    sampler: Callable[[], float]\n",
    "    \n",
    "    def sample(self) -> float:\n",
    "        return self.sampler()\n",
    "    \n",
    "#we want to roll a die and roll that many die and return the sum\n",
    "def example():\n",
    "    n =np.random.randint(1,6) #Dice roll\n",
    "    return sum(np.random.randint(1,6,size=n))"
   ]
  },
  {
   "cell_type": "code",
   "execution_count": 100,
   "metadata": {},
   "outputs": [
    {
     "data": {
      "text/plain": [
       "7"
      ]
     },
     "execution_count": 100,
     "metadata": {},
     "output_type": "execute_result"
    }
   ],
   "source": [
    "example()"
   ]
  },
  {
   "cell_type": "code",
   "execution_count": 101,
   "metadata": {},
   "outputs": [
    {
     "data": {
      "text/plain": [
       "6"
      ]
     },
     "execution_count": 101,
     "metadata": {},
     "output_type": "execute_result"
    }
   ],
   "source": [
    "A = SampledDistribution(sampler=example)\n",
    "A.sample()"
   ]
  },
  {
   "cell_type": "code",
   "execution_count": 102,
   "metadata": {},
   "outputs": [
    {
     "data": {
      "text/plain": [
       "8.951"
      ]
     },
     "execution_count": 102,
     "metadata": {},
     "output_type": "execute_result"
    }
   ],
   "source": [
    "A.mean()"
   ]
  },
  {
   "cell_type": "markdown",
   "metadata": {},
   "source": [
    "# Generators and Iterators\n",
    "\n",
    "We let the user run this iterators to see how things are going."
   ]
  },
  {
   "cell_type": "code",
   "execution_count": 103,
   "metadata": {},
   "outputs": [],
   "source": [
    "from typing import Iterator\n",
    "\n",
    "class Distribution(ABC): #ABC Makes it an abstract class\n",
    "    @abstractmethod\n",
    "    def sample(self) -> float: #Methods in python always take self as the first argument. (returns a float)\n",
    "        \"\"\"This should return a single random sample from the distribution\"\"\"\n",
    "        pass\n",
    "    \n",
    "    def mean(self,n:int=1000) -> Iterator[float]:\n",
    "        n = 0\n",
    "        mean = 0.0\n",
    "        \n",
    "        while True: #Infinite loop\n",
    "            n += 1\n",
    "            mean *= (n-1)/n\n",
    "            mean += self.sample()/n\n",
    "            yield mean\n",
    "        \n",
    "     #   samples = []\n",
    "     #   for _ in range(1000):\n",
    "     #       samples += [self.sample()]\n",
    "\n",
    "    #  return sum(samples)/len(samples)\n",
    "    \n",
    "    \n",
    "@dataclass\n",
    "class SampledDistribution(Distribution):\n",
    "    '''A distribution defined by a function to sample it.\n",
    "\n",
    "    '''\n",
    "    sampler: Callable[[], float]\n",
    "    \n",
    "    def sample(self) -> float:\n",
    "        return self.sampler()\n",
    "    \n",
    "#we want to roll a die and roll that many die and return the sum\n",
    "def example():\n",
    "    n =np.random.randint(1,6) #Dice roll\n",
    "    return sum(np.random.randint(1,6,size=n))\n",
    "\n",
    "def within(xs: Iterator[float],tolerance:float =.01) -> float:\n",
    "    a = next(xs)\n",
    "    for b in xs:\n",
    "        if abs(a-b) < tolerance:\n",
    "            return b\n",
    "        \n",
    "        a = b"
   ]
  },
  {
   "cell_type": "code",
   "execution_count": 104,
   "metadata": {},
   "outputs": [
    {
     "data": {
      "text/plain": [
       "<generator object Distribution.mean at 0x000001E659465548>"
      ]
     },
     "execution_count": 104,
     "metadata": {},
     "output_type": "execute_result"
    }
   ],
   "source": [
    "A = SampledDistribution(sampler=example)\n",
    "A.mean()"
   ]
  },
  {
   "cell_type": "code",
   "execution_count": 105,
   "metadata": {},
   "outputs": [],
   "source": [
    "means = A.mean()"
   ]
  },
  {
   "cell_type": "code",
   "execution_count": 106,
   "metadata": {},
   "outputs": [
    {
     "data": {
      "text/plain": [
       "8.0"
      ]
     },
     "execution_count": 106,
     "metadata": {},
     "output_type": "execute_result"
    }
   ],
   "source": [
    "next(means)"
   ]
  },
  {
   "cell_type": "code",
   "execution_count": 107,
   "metadata": {},
   "outputs": [
    {
     "data": {
      "text/plain": [
       "8.5"
      ]
     },
     "execution_count": 107,
     "metadata": {},
     "output_type": "execute_result"
    }
   ],
   "source": [
    "next(means)"
   ]
  },
  {
   "cell_type": "code",
   "execution_count": 108,
   "metadata": {},
   "outputs": [
    {
     "data": {
      "text/plain": [
       "7.333333333333333"
      ]
     },
     "execution_count": 108,
     "metadata": {},
     "output_type": "execute_result"
    }
   ],
   "source": [
    "next(means)"
   ]
  },
  {
   "cell_type": "code",
   "execution_count": 109,
   "metadata": {},
   "outputs": [
    {
     "data": {
      "text/plain": [
       "8.842105263157894"
      ]
     },
     "execution_count": 109,
     "metadata": {},
     "output_type": "execute_result"
    }
   ],
   "source": [
    "within(A.mean(),tolerance=.01)"
   ]
  },
  {
   "cell_type": "code",
   "execution_count": 110,
   "metadata": {},
   "outputs": [
    {
     "data": {
      "text/plain": [
       "[12.0,\n",
       " 7.5,\n",
       " 8.0,\n",
       " 7.75,\n",
       " 9.2,\n",
       " 9.5,\n",
       " 10.0,\n",
       " 9.375,\n",
       " 9.444444444444443,\n",
       " 9.299999999999999,\n",
       " 10.18181818181818,\n",
       " 9.83333333333333,\n",
       " 9.846153846153845,\n",
       " 9.214285714285714,\n",
       " 8.933333333333334,\n",
       " 8.8125,\n",
       " 8.411764705882353,\n",
       " 8.277777777777779,\n",
       " 8.631578947368421,\n",
       " 8.5,\n",
       " 8.476190476190476,\n",
       " 8.772727272727273,\n",
       " 8.434782608695652,\n",
       " 8.5,\n",
       " 8.84,\n",
       " 8.692307692307692,\n",
       " 8.555555555555554,\n",
       " 8.428571428571427,\n",
       " 8.413793103448276,\n",
       " 8.299999999999999,\n",
       " 8.096774193548386,\n",
       " 7.968749999999999,\n",
       " 8.181818181818182,\n",
       " 8.382352941176471,\n",
       " 8.485714285714286,\n",
       " 8.416666666666666,\n",
       " 8.378378378378379,\n",
       " 8.605263157894738,\n",
       " 8.76923076923077,\n",
       " 8.575000000000001,\n",
       " 8.487804878048781,\n",
       " 8.5,\n",
       " 8.604651162790697,\n",
       " 8.659090909090908,\n",
       " 8.577777777777776,\n",
       " 8.630434782608694,\n",
       " 8.80851063829787,\n",
       " 8.77083333333333,\n",
       " 8.795918367346935,\n",
       " 8.879999999999997,\n",
       " 8.941176470588232,\n",
       " 8.923076923076918,\n",
       " 9.075471698113201,\n",
       " 9.05555555555555,\n",
       " 9.236363636363631,\n",
       " 9.303571428571423,\n",
       " 9.210526315789469,\n",
       " 9.275862068965512,\n",
       " 9.186440677966097,\n",
       " 9.16666666666666,\n",
       " 9.147540983606552,\n",
       " 9.112903225806447,\n",
       " 9.158730158730153,\n",
       " 9.046874999999995,\n",
       " 9.030769230769225,\n",
       " 9.181818181818176,\n",
       " 9.164179104477606,\n",
       " 9.176470588235288,\n",
       " 9.231884057971008,\n",
       " 9.328571428571422,\n",
       " 9.22535211267605,\n",
       " 9.19444444444444,\n",
       " 9.287671232876708,\n",
       " 9.378378378378374,\n",
       " 9.479999999999995,\n",
       " 9.526315789473678,\n",
       " 9.571428571428564,\n",
       " 9.499999999999993,\n",
       " 9.506329113924044,\n",
       " 9.549999999999994,\n",
       " 9.506172839506167,\n",
       " 9.548780487804873,\n",
       " 9.662650602409633,\n",
       " 9.678571428571423,\n",
       " 9.717647058823525,\n",
       " 9.84883720930232,\n",
       " 9.80459770114942,\n",
       " 9.727272727272721,\n",
       " 9.786516853932577,\n",
       " 9.88888888888888,\n",
       " 9.86813186813186,\n",
       " 9.793478260869556,\n",
       " 9.838709677419345,\n",
       " 9.819148936170205,\n",
       " 9.85263157894736,\n",
       " 9.843749999999991,\n",
       " 9.876288659793806,\n",
       " 9.785714285714276,\n",
       " 9.707070707070699,\n",
       " 9.699999999999992]"
      ]
     },
     "execution_count": 110,
     "metadata": {},
     "output_type": "execute_result"
    }
   ],
   "source": [
    "import itertools #Has a bunch of functions to work with iterators and generators\n",
    "\n",
    "list(itertools.islice(A.mean(),100))"
   ]
  },
  {
   "cell_type": "code",
   "execution_count": 111,
   "metadata": {},
   "outputs": [
    {
     "data": {
      "text/plain": [
       "[<matplotlib.lines.Line2D at 0x1e659473f08>]"
      ]
     },
     "execution_count": 111,
     "metadata": {},
     "output_type": "execute_result"
    },
    {
     "data": {
      "image/png": "[encoded data removed]",
      "text/plain": [
       "<Figure size 432x288 with 1 Axes>"
      ]
     },
     "metadata": {
      "needs_background": "light"
     },
     "output_type": "display_data"
    }
   ],
   "source": [
    "import matplotlib.pyplot as plt\n",
    "\n",
    "plt.plot(list(itertools.islice(A.mean(),100)))"
   ]
  },
  {
   "cell_type": "code",
   "execution_count": 112,
   "metadata": {},
   "outputs": [],
   "source": [
    "within(itertools.islice(A.mean(),1000),tolerance=.000000001) #running to a tolerance of .00000000001 or \n",
    "#1000 runs whatever comes first"
   ]
  },
  {
   "cell_type": "markdown",
   "metadata": {},
   "source": [
    "Iterator vs Iterable\n",
    "\n",
    "An interator is something that can use the next() function. Iterable means that it  \n",
    "\n",
    "xs = [1,2,3,4,5]\n",
    "\n",
    "for x in xs: print(x)\n"
   ]
  },
  {
   "cell_type": "code",
   "execution_count": 113,
   "metadata": {},
   "outputs": [
    {
     "name": "stdout",
     "output_type": "stream",
     "text": [
      "1\n",
      "2\n",
      "3\n",
      "4\n",
      "5\n"
     ]
    }
   ],
   "source": [
    "xs = [1,2,3,4,5]\n",
    "for x in iter(xs): print(x)\n",
    "\n"
   ]
  },
  {
   "cell_type": "markdown",
   "metadata": {},
   "source": [
    "Iterable "
   ]
  }
 ],
 "metadata": {
  "kernelspec": {
   "display_name": "Python 3",
   "language": "python",
   "name": "python3"
  },
  "language_info": {
   "codemirror_mode": {
    "name": "ipython",
    "version": 3
   },
   "file_extension": ".py",
   "mimetype": "text/x-python",
   "name": "python",
   "nbconvert_exporter": "python",
   "pygments_lexer": "ipython3",
   "version": "3.7.9"
  }
 },
 "nbformat": 4,
 "nbformat_minor": 4
}
