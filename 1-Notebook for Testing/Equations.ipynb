{
 "cells": [
  {
   "cell_type": "markdown",
   "metadata": {},
   "source": [
    "### Markov Processes:\n",
    "\n",
    "$\\mathcal{S} =$ Countable set of states known as the State Space\n",
    "\n",
    "$\\mathcal{T} =$ Set of terminal states\n",
    "\n",
    "$\\mathcal{N} =$ Set of Non terminal states\n",
    "\n",
    "$\\mathcal{P} =$ Transition probability function\n",
    "\n",
    "\\begin{bmatrix}\n",
    "\\mathcal{S}\n",
    "\\end{bmatrix}\n",
    "\n",
    "$\\mu:\\mathcal{S} \\to [0,1] =$ Probability distribution of start states \n",
    "\n",
    "In a markov process you have a state variable that gets updated each time the system shifts to a new state. This makes it continutous."
   ]
  },
  {
   "cell_type": "markdown",
   "metadata": {},
   "source": [
    "# Finite Markov Processes\n",
    "\n",
    "$\\mathcal{S} = \\{s_1,s_2,s_3,...,s_n\\}$\n",
    "$ n =$ number of states\n",
    "$ m =$ number of non-terminal states\n",
    "\n",
    "Markov Property: The transition probability from the current state to the next captures all of the history leading up to that state in the current state. In other words, the probability of moving from one state to another depends only on the state we are currently in.\n",
    "\n",
    "$\\mathcal{P}[\\mathcal{S}_{t+1}\\mathcal{S}_t] = \\mathcal{P}[\\mathcal{S}_{t+1}| \\mathcal{S}_1,\\dots,\\mathcal{S}_t]$\n",
    "\n"
   ]
  },
  {
   "cell_type": "code",
   "execution_count": null,
   "metadata": {},
   "outputs": [],
   "source": []
  },
  {
   "cell_type": "code",
   "execution_count": null,
   "metadata": {},
   "outputs": [],
   "source": []
  },
  {
   "cell_type": "code",
   "execution_count": null,
   "metadata": {},
   "outputs": [],
   "source": []
  },
  {
   "cell_type": "code",
   "execution_count": null,
   "metadata": {},
   "outputs": [],
   "source": []
  }
 ],
 "metadata": {
  "kernelspec": {
   "display_name": "Python 3",
   "language": "python",
   "name": "python3"
  },
  "language_info": {
   "codemirror_mode": {
    "name": "ipython",
    "version": 3
   },
   "file_extension": ".py",
   "mimetype": "text/x-python",
   "name": "python",
   "nbconvert_exporter": "python",
   "pygments_lexer": "ipython3",
   "version": "3.7.9"
  }
 },
 "nbformat": 4,
 "nbformat_minor": 4
}
