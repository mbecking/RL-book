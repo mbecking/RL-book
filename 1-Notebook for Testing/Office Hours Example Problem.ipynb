{
 "cells": [
  {
   "cell_type": "code",
   "execution_count": 1,
   "metadata": {},
   "outputs": [],
   "source": [
    "import sys\n",
    "sys.path.append(\"../../RL-book\")\n",
    "from rl import markov_process\n",
    "from dataclasses import dataclass\n",
    "from typing import Mapping, Dict\n",
    "from rl.distribution import Categorical\n",
    "from rl.markov_process import Transition, FiniteMarkovProcess\n",
    "from scipy.stats import poisson"
   ]
  },
  {
   "cell_type": "markdown",
   "metadata": {},
   "source": [
    "In this example we will be modelling: Example Markov Desicsion Process\n",
    "\n",
    "Classwork\n",
    "\n",
    "No sleep state\n",
    "\n",
    "Sleep is the terminal state so we now make pass the terminal state\n",
    "\n",
    "How long will it take us to finish from where we start\n",
    "\n",
    "Step 1: Define state class\n",
    "Step 2: Define the states in a dictionary\n",
    "Step 3: Create Transition Map (either use a function or write them out in a dictionary)\n",
    "Step 4: Create an instance of the class that represents the FMP\n",
    "Step 5: To declare a distribution it should be a dictionary Categorical is a Dictionary of State to Probability we start there\n",
    "\n",
    "Whenever I am preparing a distribution come to distribution.py and find the class that makes the most sense Categorical will be common\n",
    "\n",
    "Step 6: Reward Process (Creating a rewards map): Looks like a transition map, but now\n",
    "MPD {s:{s':p}}\n",
    "MRP Determanistic: {s:{(s1',R1): P1, (s2',R2): P2}, s2...}               ..... (value1, value2) is a tuple\n",
    "MRP Nondetermenistic: {s:{(s',R1): P1, (s',R2): P2}}\n",
    "\n",
    "you can have non derterministic rewards (the rewards also have a probability)\n",
    "\n",
    "(s',R|s) \n",
    "\n",
    "s $\\to$ s'"
   ]
  },
  {
   "cell_type": "code",
   "execution_count": null,
   "metadata": {},
   "outputs": [],
   "source": []
  }
 ],
 "metadata": {
  "kernelspec": {
   "display_name": "Python 3",
   "language": "python",
   "name": "python3"
  },
  "language_info": {
   "codemirror_mode": {
    "name": "ipython",
    "version": 3
   },
   "file_extension": ".py",
   "mimetype": "text/x-python",
   "name": "python",
   "nbconvert_exporter": "python",
   "pygments_lexer": "ipython3",
   "version": "3.7.9"
  }
 },
 "nbformat": 4,
 "nbformat_minor": 4
}
