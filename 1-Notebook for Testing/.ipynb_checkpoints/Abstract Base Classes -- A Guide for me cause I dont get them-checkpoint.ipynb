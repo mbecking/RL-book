{
 "cells": [
  {
   "cell_type": "markdown",
   "metadata": {},
   "source": [
    "# Understanding Abstract Base Classes (ABC):\n",
    "\n",
    "So, the way that the code is written, it uses these Abstract Base Classes (https://docs.python.org/3/library/collections.abc.html#collections-abstract-base-classes) as well as \n",
    "\n",
    "**1. S = TypeVar('S'):** This defines a new variable type like int, str, or float that represents a state\n",
    "\n",
    "**2. Generic[S]:**\n",
    "\n",
    "**3. FiniteDistribution[S]:**\n",
    "\n",
    "**4. Distribution[S]:**\n",
    "\n",
    "**5. Optional[]:**\n",
    "\n",
    "**6. Mapping[]:**\n",
    "\n",
    "**7. Iterable[S]:**\n",
    "\n",
    "**8. Sequence[S]:**\n",
    "\n",
    "**9. Transition[S]:**\n",
    "\n",
    "**10. RewardTransition[S]:**"
   ]
  },
  {
   "cell_type": "markdown",
   "metadata": {},
   "source": [
    "# markov_processes:\n",
    "\n",
    "**Abstract Class:**\n",
    "\n",
    "1. MarkovProcess(ABC, Generic[S]):\n",
    "\n",
    "**Normal Classes:**\n",
    "\n",
    "1. FiniteMarkovProcess(MarkovProcess[S])\n",
    "2. TransitionStep(Generic[S])\n",
    "3. ReturnStep(TransitionStep[S])\n",
    "4. MarkovRewardProcess(MarkovProcess[S])\n",
    "5. FiniteMarkovRewardProcess(FiniteMarkovProcess[S], MarkovRewardProcess[S])\n"
   ]
  },
  {
   "cell_type": "code",
   "execution_count": null,
   "metadata": {},
   "outputs": [],
   "source": []
  },
  {
   "cell_type": "code",
   "execution_count": null,
   "metadata": {},
   "outputs": [],
   "source": []
  }
 ],
 "metadata": {
  "kernelspec": {
   "display_name": "Python 3",
   "language": "python",
   "name": "python3"
  },
  "language_info": {
   "codemirror_mode": {
    "name": "ipython",
    "version": 3
   },
   "file_extension": ".py",
   "mimetype": "text/x-python",
   "name": "python",
   "nbconvert_exporter": "python",
   "pygments_lexer": "ipython3",
   "version": "3.7.9"
  }
 },
 "nbformat": 4,
 "nbformat_minor": 4
}
