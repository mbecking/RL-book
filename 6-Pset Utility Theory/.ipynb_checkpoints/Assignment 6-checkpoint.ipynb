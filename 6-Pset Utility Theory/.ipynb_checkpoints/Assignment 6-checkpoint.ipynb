{
 "cells": [
  {
   "cell_type": "markdown",
   "metadata": {},
   "source": [
    "Assume the Utility function is:\n",
    "\n",
    "\\begin{equation}\n",
    "U(x) = x-\\frac{\\alpha x^2}{2}\n",
    "\\end{equation}\n",
    "\n",
    "U(x) = x −\n",
    "αx2\n",
    "2\n",
    "x ∼ N(µ, σ2), calculate:\n",
    "\n",
    "1. Expected Utility E[U(x)]\n",
    "2. Certainty-Equivalent Value xCE\n",
    "3. Absolute Risk-Premium πA\n",
    "\n",
    "Assume you have a million dollars to invest for a year and you are allowed to invest z dollars in\n",
    "a risky asset whose annual return on investment is N(µ, σ2) and the remaining (a million minus\n",
    "z dollars) would need to be invested in a riskless asset with fixed annual return on investment of\n",
    "r. You are not allowed to adjust the quantities invested in the risky and riskless assets after your\n",
    "initial investment decision at time t = 0 (static asset allocation problem). If your risk-aversion is\n",
    "based on this Utility function, how much would you invest in the risky asset? In other words, what\n",
    "is the optimal value for z, given your level of risk-aversion (determined by a fixed value of α)?\n",
    "Plot how the optimal value of z varies with α."
   ]
  },
  {
   "cell_type": "code",
   "execution_count": 3,
   "metadata": {},
   "outputs": [],
   "source": [
    "import matplotlib.pyplot as plt\n",
    "import numpy as np"
   ]
  },
  {
   "cell_type": "code",
   "execution_count": 8,
   "metadata": {},
   "outputs": [
    {
     "data": {
      "image/png": "[encoded data removed]",
      "text/plain": [
       "<Figure size 432x288 with 1 Axes>"
      ]
     },
     "metadata": {
      "needs_background": "light"
     },
     "output_type": "display_data"
    }
   ],
   "source": [
    "#What does our utility function look like:\n",
    "def utility(x,alpha):\n",
    "    return x-alpha*x**2/2\n",
    "\n",
    "X = np.linspace(0,10,100)\n",
    "for x in X:\n",
    "    plt.plot(x,utility(x,.15),'r.')"
   ]
  },
  {
   "cell_type": "markdown",
   "metadata": {},
   "source": [
    "# 1.1 Expected Utility $E[U(x)]$: \n",
    "\n",
    "Start by plugging in the utility function into an expectation and simplifying:\n",
    "\n",
    "\\begin{equation}\n",
    "E[U(x)] = E \\left[x-\\frac{\\alpha x^2}{2} \\right] = E[x] - \\frac{\\alpha}{2} E[x^2]\n",
    "\\end{equation}\n",
    "\n",
    "We now have 2 simpler terms to solve for. The expectation is simple as it it just the average:\n",
    "\n",
    "\\begin{equation}\n",
    "E[x] = \\mu\n",
    "\\end{equation}\n",
    "\n",
    "The second term is a little more complicated, but if we follow this identity for the varience then we can solve for it trivially:\n",
    "\n",
    "\\begin{equation}\n",
    "E[x^2] - (E[x])^2 = \\sigma^2\n",
    "\\end{equation}\n",
    "\n",
    "Since we already know the expectation of E[x], we can solve for\"\n",
    "\n",
    "\\begin{equation}\n",
    "E[x^2] = \\sigma^2 +\\mu^2\n",
    "\\end{equation}\n",
    "\n",
    "Finally we can put ths together to show our expected utility:\n",
    "\n",
    "\\begin{equation}\n",
    "E[U(x)] = \\mu - \\frac{\\alpha}{2}(\\sigma^2 +\\mu^2)\n",
    "\\end{equation}"
   ]
  },
  {
   "cell_type": "markdown",
   "metadata": {},
   "source": [
    "# 1.2 Certainty-Equivalent Value $x_{CE}$\n",
    "\n",
    "From class we know that:\n",
    "\n",
    "\\begin{equation}\n",
    "E[U(x)] = U(x_{CE})\n",
    "\\end{equation}\n",
    "\n",
    "\\begin{equation}\n",
    "U'(\\bar{x})(x_{CE} - E[x]) = \\frac{1}{2} U''(\\bar{x})\\sigma^2\n",
    "\\end{equation}\n",
    "\n",
    "Now with some math manipulations we can solve for $x_{CE}$:\n",
    "\n",
    "\\begin{equation}\n",
    "U'(\\bar{x})x_{CE} =   U'(\\bar{x})E[x] + \\frac{1}{2} U''(\\bar{x})\\sigma^2\n",
    "\\end{equation}\n",
    "\n",
    "\\begin{equation}\n",
    "x_{CE} =  E[x] + \\frac{1}{2} \\frac{U''(\\bar{x})}{ U'(\\bar{x})} \\sigma^2\n",
    "\\end{equation}\n",
    "\n",
    "If we solve for the first and second derivatives of the utility function we can get the answer:\n",
    "\n",
    "\\begin{equation}\n",
    " U'(\\bar{x}) = 1 - \\alpha x\n",
    "\\end{equation}\n",
    "\n",
    "\\begin{equation}\n",
    " U''(\\bar{x}) =  - \\alpha \n",
    "\\end{equation}\n",
    "\n",
    "Now we can plug in to our final expression:\n",
    "\n",
    "\\begin{equation}\n",
    "x_{CE} = \\mu - \\frac{1}{2} \\frac{\\alpha }{ 1 - \\alpha x} \\sigma^2\n",
    "\\end{equation}"
   ]
  },
  {
   "cell_type": "markdown",
   "metadata": {},
   "source": [
    "# 1.3 Absolute Risk-Premium πA:\n",
    "\n",
    "From class we have that $\\pi_A = \\bar{x} - x_{CE}$.Thus we have:\n",
    "\n",
    "\\begin{equation}\n",
    "\\pi_A = \\mu - \\left( \\mu - \\frac{1}{2} \\frac{\\alpha }{ 1 - \\alpha x} \\sigma^2 \\right)\n",
    "\\end{equation}\n",
    "\n",
    "\\begin{equation}\n",
    "\\pi_A =  \\frac{1}{2} \\frac{\\alpha }{ 1 - \\alpha x} \\sigma^2\n",
    "\\end{equation}"
   ]
  },
  {
   "cell_type": "markdown",
   "metadata": {},
   "source": [
    "# 1.4 Optimal investing amount z:\n",
    "\n",
    "Possible investing amount: $1,000,000:\n",
    "\n",
    "risky asset: = z\n",
    "\n",
    "riskless asset: = $1,000,000 - z\n",
    "\n",
    "The riskless asset has has a fixed annual retur on investment of r\n",
    "\n",
    "For simplicity let's make z in terms of millions so that the equations are a little nicer:\n",
    "\n",
    "risky asset: = z\n",
    "\n",
    "riskless asset: = 1 - z\n",
    "\n",
    "From here we can express our wealth W:\n",
    "\n",
    "\\begin{equation}\n",
    "W \\to N \\left( (1+\\mu)z + (1+r)(1-z),z^2 \\sigma^2 \\right)\n",
    "\\end{equation}\n",
    "\n",
    "Which can be simplified to:\n",
    "\n",
    "\\begin{equation}\n",
    "W \\to N \\left( z(\\mu-r) + 1+r,z^2 \\sigma^2 \\right)\n",
    "\\end{equation}\n",
    "\n",
    "Now all we have to do is plug into our existing equations. We want to maximize E[U(W)], so we can solve for that term and take the derivative. Once we have done that we can set it equal to zero and find the max:\n",
    "\n",
    "\\begin{equation}\n",
    "E[U(W)] = z(\\mu-r) + 1+r - \\frac{\\alpha}{2}(\\sigma^2 z^2 +(z(\\mu-r) + 1+r)^2)\n",
    "\\end{equation}\n",
    "\n",
    "Now we take the derivative:\n",
    "\n",
    "\\begin{equation}\n",
    "E[U(W)]' = -\\alpha(\\mu-r)(-rz + r + uz + 1)-r+u -z \\alpha \\sigma^2\n",
    "\\end{equation}\n",
    "\n",
    "Set equal to zero:\n",
    "\n",
    "\\begin{equation}\n",
    "-\\alpha(\\mu-r)(-rz + r + uz + 1)-r+u -z \\alpha \\sigma^2 = 0\n",
    "\\end{equation}\n",
    "\n",
    "Solve for z:\n",
    "\n",
    "\\begin{equation}\n",
    "z = \\frac{(\\alpha + \\alpha r - 1)(r-u) }{ \\alpha(r^2 - 2ru + \\sigma^2 + u^2)}\n",
    "\\end{equation}\n"
   ]
  },
  {
   "cell_type": "code",
   "execution_count": 11,
   "metadata": {},
   "outputs": [],
   "source": [
    "def z(alpha,r,sigma,mu):\n",
    "    return (alpha + alpha*r-1)*(r-mu)/(alpha*(r**2 - 2*r*mu + sigma**2 + mu**2))"
   ]
  },
  {
   "cell_type": "code",
   "execution_count": 14,
   "metadata": {},
   "outputs": [
    {
     "name": "stderr",
     "output_type": "stream",
     "text": [
      "C:\\Users\\mbeck\\Anaconda3\\envs\\RLF\\lib\\site-packages\\ipykernel_launcher.py:2: RuntimeWarning: divide by zero encountered in double_scalars\n",
      "  \n"
     ]
    },
    {
     "data": {
      "image/png": "[encoded data removed]",
      "text/plain": [
       "<Figure size 432x288 with 1 Axes>"
      ]
     },
     "metadata": {
      "needs_background": "light"
     },
     "output_type": "display_data"
    }
   ],
   "source": [
    "alpha = np.linspace(0,1,100)\n",
    "for a in alpha:\n",
    "    plt.plot(a,z(a,.1,.005,.001),'.')"
   ]
  },
  {
   "cell_type": "code",
   "execution_count": null,
   "metadata": {},
   "outputs": [],
   "source": []
  }
 ],
 "metadata": {
  "kernelspec": {
   "display_name": "Python 3",
   "language": "python",
   "name": "python3"
  },
  "language_info": {
   "codemirror_mode": {
    "name": "ipython",
    "version": 3
   },
   "file_extension": ".py",
   "mimetype": "text/x-python",
   "name": "python",
   "nbconvert_exporter": "python",
   "pygments_lexer": "ipython3",
   "version": "3.7.9"
  }
 },
 "nbformat": 4,
 "nbformat_minor": 4
}
