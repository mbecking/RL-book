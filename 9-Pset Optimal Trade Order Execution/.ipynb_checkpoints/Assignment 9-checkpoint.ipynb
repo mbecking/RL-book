{
 "cells": [
  {
   "cell_type": "markdown",
   "metadata": {},
   "source": [
    "# Simulator of Order Book Dynamics:"
   ]
  },
  {
   "cell_type": "markdown",
   "metadata": {},
   "source": [
    "We’d like to build a simple simulator of Order Book Dynamics as a MarkovProcess using the code\n",
    "in rl/chapter9/order book.py. An object of type OrderBook constitutes the State. Your task is to\n",
    "come up with a simple model for random arrivals of Market Orders and Limit Orders based on the\n",
    "current contents of the OrderBook. This model of random arrivals of Marker Orders and Limit\n",
    "Orders defines the probabilistic transitions from the current state (OrderBook object) to the next\n",
    "state (OrderBook object). Implement the probabilistic transitions as a MarkovProcess and use it’s\n",
    "simulate method to complete your implementation of a simple simulator of Order Book Dynamics.\n",
    "Experiment with different models for random arrivals of Market Orders and Limit Orders."
   ]
  },
  {
   "cell_type": "code",
   "execution_count": null,
   "metadata": {},
   "outputs": [],
   "source": [
    "#Import Modules:'\n",
    "import sys\n",
    "sys.path.append(\"../../RL-book\")\n",
    "from rl.chapter9.order_book import OrderBook\n",
    "from rl.markov_process import MarkovProcess\n",
    "from rl.distribution import SampledDistribution, Constant\n",
    "import matplotlib.pyplot as plt\n",
    "import numpy as np\n"
   ]
  },
  {
   "cell_type": "code",
   "execution_count": null,
   "metadata": {},
   "outputs": [],
   "source": [
    "@dataclass\n",
    "class Order_Book_Dynamics(MarkovProcess[OrderBook]):\n",
    "    start_price : float\n",
    "    "
   ]
  }
 ],
 "metadata": {
  "kernelspec": {
   "display_name": "Python 3",
   "language": "python",
   "name": "python3"
  },
  "language_info": {
   "codemirror_mode": {
    "name": "ipython",
    "version": 3
   },
   "file_extension": ".py",
   "mimetype": "text/x-python",
   "name": "python",
   "nbconvert_exporter": "python",
   "pygments_lexer": "ipython3",
   "version": "3.7.9"
  }
 },
 "nbformat": 4,
 "nbformat_minor": 4
}
