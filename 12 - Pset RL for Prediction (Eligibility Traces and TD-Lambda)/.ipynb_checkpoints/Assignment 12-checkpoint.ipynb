{
 "cells": [
  {
   "cell_type": "code",
   "execution_count": 102,
   "metadata": {},
   "outputs": [
    {
     "data": {
      "text/html": [
       "<style>.container{width:90%!important;}"
      ],
      "text/plain": [
       "<IPython.core.display.HTML object>"
      ]
     },
     "metadata": {},
     "output_type": "display_data"
    }
   ],
   "source": [
    "#Import Modules:\n",
    "import sys\n",
    "sys.path.append(\"../../RL-book\")\n",
    "from dataclasses import dataclass\n",
    "from typing import Tuple, Dict\n",
    "from typing import Iterable, Iterator, Tuple, TypeVar\n",
    "from rl.markov_decision_process import FiniteMarkovDecisionProcess, MarkovDecisionProcess\n",
    "from rl.markov_decision_process import FinitePolicy, StateActionMapping\n",
    "from rl.markov_process import FiniteMarkovProcess, FiniteMarkovRewardProcess\n",
    "from rl.distribution import Categorical, Constant\n",
    "from scipy.stats import poisson\n",
    "import numpy as np\n",
    "from more_itertools import distinct_permutations\n",
    "import matplotlib.pyplot as plt\n",
    "from rl.dynamic_programming import value_iteration, policy_iteration, policy_iteration_result\n",
    "import rl.markov_process as mp\n",
    "from matplotlib.pyplot import cm\n",
    "\n",
    "from IPython.core.display import display, HTML\n",
    "display(HTML(\"<style>.container{width:90%!important;}\"))"
   ]
  },
  {
   "cell_type": "markdown",
   "metadata": {},
   "source": [
    "## Import Vampire Problem for Testing Purpose"
   ]
  },
  {
   "cell_type": "code",
   "execution_count": 103,
   "metadata": {},
   "outputs": [],
   "source": [
    "#Create Class:\n",
    "@dataclass(frozen=True)\n",
    "class Village_State:\n",
    "    num_villagers_alive: int\n",
    "    Vampire_is_alive : bool\n",
    "        \n",
    "VampireMapping = StateActionMapping[Village_State, int]\n",
    "\n",
    "class Vampire_MDP_Finite(FiniteMarkovDecisionProcess[Village_State, int]):\n",
    "    def __init__(self,num_villagers_alive:int):\n",
    "        self.num_villagers_alive = num_villagers_alive\n",
    "        super().__init__(self.get_action_transition_reward_map())\n",
    "    \n",
    "    def get_action_transition_reward_map(self) -> VampireMapping:\n",
    "        d: Dict[Village_State, Dict[str, Categorical[Tuple[Village_State,float]]]] = {}\n",
    "\n",
    "        for villagers in range(1,self.num_villagers_alive+1):\n",
    "            START_STATE = Village_State(num_villagers_alive = villagers,Vampire_is_alive=True)\n",
    "            action_dict = {}\n",
    "            \n",
    "            for poison_amount in range(villagers+1):\n",
    "                action_str = \"Poison \" + str(poison_amount) + \" villigers\"\n",
    "                END_STATE_Murdered = Village_State(num_villagers_alive = villagers-poison_amount,Vampire_is_alive=False)\n",
    "                END_STATE_Survived = Village_State(num_villagers_alive = villagers-poison_amount-1,Vampire_is_alive=True)\n",
    "                \n",
    "                prob_dict = {}\n",
    "                \n",
    "                vampire_murdered_prob = poison_amount/villagers\n",
    "                vampire_survive_prob = 1 - poison_amount/villagers\n",
    "                \n",
    "                Reward_vampire_survives = 0\n",
    "                Reward_vampire_is_murdered = villagers - poison_amount\n",
    "                \n",
    "                prob_dict[(END_STATE_Murdered,Reward_vampire_is_murdered)] = vampire_murdered_prob\n",
    "                prob_dict[(END_STATE_Survived,Reward_vampire_survives)] = vampire_survive_prob\n",
    "                \n",
    "                action_dict[action_str] =Categorical(prob_dict)\n",
    "                \n",
    "                d[END_STATE_Murdered] = None\n",
    "            d[Village_State(num_villagers_alive = 0,Vampire_is_alive=True)]=None\n",
    "            d[Village_State(num_villagers_alive = 0,Vampire_is_alive=False)]=None\n",
    "            d[START_STATE] = action_dict\n",
    "        return d\n",
    "    \n",
    "Vampire_MDP = Vampire_MDP_Finite(num_villagers_alive=10)"
   ]
  },
  {
   "cell_type": "markdown",
   "metadata": {},
   "source": [
    "## Generate a deterministic policy, starting distribution, and starting distribution\n"
   ]
  },
  {
   "cell_type": "code",
   "execution_count": 104,
   "metadata": {},
   "outputs": [],
   "source": [
    "def generate_policy_and_start_distribution(num_villagers):\n",
    "    policy = {}\n",
    "    start_distribution = {}\n",
    "    approx_0 = {}\n",
    "\n",
    "    for villagers in range(1,num_villagers+1):\n",
    "        START_STATE = Village_State(num_villagers_alive = villagers,Vampire_is_alive=True)\n",
    "        approx_0[START_STATE] = 0\n",
    "        action_dict = {}\n",
    "        start_distribution[START_STATE] = 1/num_villagers\n",
    "\n",
    "        for poison_amount in range(villagers+1):\n",
    "            action_str = \"Poison \" + str(poison_amount) + \" villigers\"\n",
    "\n",
    "            if poison_amount ==1:\n",
    "                action_dict[action_str] = 1\n",
    "\n",
    "            END_STATE_Murdered = Village_State(num_villagers_alive = villagers-poison_amount,Vampire_is_alive=False)\n",
    "            policy[END_STATE_Murdered] = None\n",
    "            approx_0[END_STATE_Murdered] = 0\n",
    "\n",
    "        policy[START_STATE] = Categorical(action_dict)\n",
    "    policy[Village_State(num_villagers_alive = 0,Vampire_is_alive=True)]=None\n",
    "    policy[Village_State(num_villagers_alive = 0,Vampire_is_alive=False)]=None\n",
    "    \n",
    "    approx_0[Village_State(num_villagers_alive = 0,Vampire_is_alive=True)]=0\n",
    "    approx_0[Village_State(num_villagers_alive = 0,Vampire_is_alive=False)]=0\n",
    "    \n",
    "    policy = FinitePolicy(policy)\n",
    "    start_distribution = Categorical(start_distribution)\n",
    "    return policy,start_distribution,approx_0\n",
    "\n",
    "policy, start_distribution, approx_0 = generate_policy_and_start_distribution(10)\n",
    "num_visits= approx_0.copy()"
   ]
  },
  {
   "cell_type": "markdown",
   "metadata": {},
   "source": [
    "## Generate traces for Prediction algorithm to use to learn"
   ]
  },
  {
   "cell_type": "code",
   "execution_count": 110,
   "metadata": {},
   "outputs": [],
   "source": [
    "Vampire_MRP = Vampire_MDP.apply_finite_policy(policy)\n",
    "\n",
    "traces = []\n",
    "for i, trace in enumerate(Vampire_MRP.reward_traces(start_distribution)):\n",
    "\n",
    "    if i >= 10000:\n",
    "        break\n",
    "    \n",
    "    temp_list=[]\n",
    "    for j,x in enumerate(trace):\n",
    "        temp_list.append(x)\n",
    "    \n",
    "    traces.append(temp_list)"
   ]
  },
  {
   "cell_type": "markdown",
   "metadata": {},
   "source": [
    "# -------------------------------------------------------------------------------------------------------------------------------------------------------------"
   ]
  },
  {
   "cell_type": "markdown",
   "metadata": {},
   "source": [
    "# Problem 1: n-Step Bootstrapping\n",
    "\n",
    "Implement the n-Step Bootstrapping Prediction algorithm from scratch in Python code. First do\n",
    "it for the Tabular case, then do it for the case of Function Approximation."
   ]
  },
  {
   "cell_type": "code",
   "execution_count": 109,
   "metadata": {},
   "outputs": [
    {
     "name": "stdout",
     "output_type": "stream",
     "text": [
      "Value Function & Number of Rewards per Non-Terminal States\n",
      "\n",
      "Village_State(num_villagers_alive=1, Vampire_is_alive=True) 0.0  Number of Visits to State: 30691\n",
      "Village_State(num_villagers_alive=2, Vampire_is_alive=True) 0.49745002637904034  Number of Visits to State: 34118\n",
      "Village_State(num_villagers_alive=3, Vampire_is_alive=True) 0.666924564796903  Number of Visits to State: 31020\n",
      "Village_State(num_villagers_alive=4, Vampire_is_alive=True) 1.1248873838889135  Number of Visits to State: 32189\n",
      "Village_State(num_villagers_alive=5, Vampire_is_alive=True) 1.3321889066910755  Number of Visits to State: 26214\n",
      "Village_State(num_villagers_alive=6, Vampire_is_alive=True) 1.7739337568058064  Number of Visits to State: 26448\n",
      "Village_State(num_villagers_alive=7, Vampire_is_alive=True) 2.0018003706645304  Number of Visits to State: 18885\n",
      "Village_State(num_villagers_alive=8, Vampire_is_alive=True) 2.426143240540976  Number of Visits to State: 19003\n",
      "Village_State(num_villagers_alive=9, Vampire_is_alive=True) 2.6390116512655726  Number of Visits to State: 9956\n",
      "Village_State(num_villagers_alive=10, Vampire_is_alive=True) 3.065265801815974  Number of Visits to State: 9883\n",
      "Village_State(num_villagers_alive=0, Vampire_is_alive=True) 0  Number of Visits to State: 0\n"
     ]
    },
    {
     "data": {
      "image/png": "[encoded data removed]",
      "text/plain": [
       "<Figure size 432x288 with 1 Axes>"
      ]
     },
     "metadata": {
      "needs_background": "light"
     },
     "output_type": "display_data"
    }
   ],
   "source": [
    "S = TypeVar('S')\n",
    "A = TypeVar('A')\n",
    "value_function = TypeVar('V')\n",
    "\n",
    "policy,start_distribution,approx_0 = generate_policy_and_start_distribution(10)\n",
    "num_visits= approx_0.copy()\n",
    "\n",
    "#Create Function:\n",
    "def n_step_bootstrapping_prediction_tabular(\n",
    "    traces: Iterable[Iterable[mp.TransitionStep[S]]],\n",
    "    approx_0: Dict[S,value_function],\n",
    "    gamma: float,\n",
    "    n_step : int,\n",
    "    num_visits: Dict[S,int]) -> Dict[S,value_function]:\n",
    "    \n",
    "    \"\"\"The main difference between this prediction and the one from the code base is that we are\n",
    "        now representing the approximate value function as a dictionary. Instead of updating the function using the\n",
    "        iterate updates method we will now write code to do that. The function will return a new approx_0\n",
    "        that should be a better value function.\"\"\"    \n",
    "    bootstrapping_reward = num_visits.copy()\n",
    "    \n",
    "    \n",
    "    total_accumulated_reward = {}\n",
    "    \n",
    "    #Loop through all of the individual trial runs\n",
    "    for trace in traces:\n",
    "        COLOR = iter(cm.rainbow(np.linspace(0,1,len(approx_0))))\n",
    "        \n",
    "        #Loop through all of the individual state transitions\n",
    "        for n,transition in enumerate(trace): #Transition has S.A.R.S. values\n",
    "            \n",
    "            #Since we are in some state rn update that state with the visit number\n",
    "            num_visits[transition.state] = num_visits[transition.state] + 1\n",
    "            \n",
    "            \n",
    "            gamma_power = 0\n",
    "            reward_component = 0\n",
    "\n",
    "            for i,transition_2 in enumerate(trace): #(All of the remaining steps and their rewards)\n",
    "                if i >= n and i <= n + n_step:\n",
    "                    \n",
    "\n",
    "                    reward_component += gamma**gamma_power * transition_2.reward\n",
    "                    \n",
    "                    if i == n+n_step or i == len(trace)-1:\n",
    "                        \n",
    "                        value_component = gamma**gamma_power * approx_0[transition_2.next_state]\n",
    "                        bootstrapped_return = reward_component + value_component\n",
    "                        \n",
    "                        bootstrapping_reward[transition.state] += bootstrapped_return\n",
    "                        \n",
    "                    gamma_power += 1\n",
    "                    \n",
    "            approx_0[transition.state] +=  1/num_visits[transition.state] * (bootstrapped_return - approx_0[transition.state])\n",
    "                    \n",
    "        for x in approx_0:\n",
    "            color = next(COLOR)\n",
    "            if x.Vampire_is_alive:\n",
    "                plt.plot(num_visits[x],approx_0[x],marker='.',color=color)\n",
    "                \n",
    "    #print(bootstrapping_reward)\n",
    "    return approx_0,num_visits\n",
    "\n",
    "approx_0,num_visits = n_step_bootstrapping_prediction_tabular(traces=traces,approx_0=approx_0,gamma=1,n_step=3,num_visits=num_visits)\n",
    "\n",
    "print (\"Value Function & Number of Rewards per Non-Terminal States\")\n",
    "print ()\n",
    "for x in approx_0:\n",
    "    if x.Vampire_is_alive:\n",
    "        print (x,approx_0[x],\" Number of Visits to State:\",num_visits[x])"
   ]
  },
  {
   "cell_type": "code",
   "execution_count": 149,
   "metadata": {},
   "outputs": [
    {
     "data": {
      "text/plain": [
       "Village_State(num_villagers_alive=1, Vampire_is_alive=False) is a Terminal State\n",
       "Village_State(num_villagers_alive=0, Vampire_is_alive=False) is a Terminal State\n",
       "Village_State(num_villagers_alive=0, Vampire_is_alive=True) is a Terminal State\n",
       "For State Village_State(num_villagers_alive=1, Vampire_is_alive=True):\n",
       "  Do Action Poison 0 villigers with Probability 1.000\n",
       "Village_State(num_villagers_alive=2, Vampire_is_alive=False) is a Terminal State\n",
       "For State Village_State(num_villagers_alive=2, Vampire_is_alive=True):\n",
       "  Do Action Poison 2 villigers with Probability 1.000\n",
       "Village_State(num_villagers_alive=3, Vampire_is_alive=False) is a Terminal State\n",
       "For State Village_State(num_villagers_alive=3, Vampire_is_alive=True):\n",
       "  Do Action Poison 1 villigers with Probability 1.000\n",
       "Village_State(num_villagers_alive=4, Vampire_is_alive=False) is a Terminal State\n",
       "For State Village_State(num_villagers_alive=4, Vampire_is_alive=True):\n",
       "  Do Action Poison 3 villigers with Probability 1.000\n",
       "Village_State(num_villagers_alive=5, Vampire_is_alive=False) is a Terminal State\n",
       "For State Village_State(num_villagers_alive=5, Vampire_is_alive=True):\n",
       "  Do Action Poison 2 villigers with Probability 1.000\n",
       "Village_State(num_villagers_alive=6, Vampire_is_alive=False) is a Terminal State\n",
       "For State Village_State(num_villagers_alive=6, Vampire_is_alive=True):\n",
       "  Do Action Poison 0 villigers with Probability 1.000\n",
       "Village_State(num_villagers_alive=7, Vampire_is_alive=False) is a Terminal State\n",
       "For State Village_State(num_villagers_alive=7, Vampire_is_alive=True):\n",
       "  Do Action Poison 4 villigers with Probability 1.000\n",
       "Village_State(num_villagers_alive=8, Vampire_is_alive=False) is a Terminal State\n",
       "For State Village_State(num_villagers_alive=8, Vampire_is_alive=True):\n",
       "  Do Action Poison 0 villigers with Probability 1.000\n",
       "Village_State(num_villagers_alive=9, Vampire_is_alive=False) is a Terminal State\n",
       "For State Village_State(num_villagers_alive=9, Vampire_is_alive=True):\n",
       "  Do Action Poison 6 villigers with Probability 1.000\n",
       "Village_State(num_villagers_alive=10, Vampire_is_alive=False) is a Terminal State\n",
       "For State Village_State(num_villagers_alive=10, Vampire_is_alive=True):\n",
       "  Do Action Poison 2 villigers with Probability 1.000"
      ]
     },
     "execution_count": 149,
     "metadata": {},
     "output_type": "execute_result"
    }
   ],
   "source": [
    "def random_policy(FiniteMDP):\n",
    "    policy_dict = {}\n",
    "    for state in FiniteMDP.states():\n",
    "        action_dict = {}\n",
    "        \n",
    "        actions = list(FiniteMDP.actions(state))\n",
    "        n = len(actions)\n",
    "        if n > 0:\n",
    "            uniform_actions = Categorical({action:1/n for action in actions})\n",
    "\n",
    "            random_action = uniform_actions.sample()\n",
    "\n",
    "        \n",
    "            policy_dict[state] = Constant(random_action)\n",
    "        else:\n",
    "            policy_dict[state] = None\n",
    "    return FinitePolicy(policy_dict)\n",
    "\n",
    "random_policy(Vampire_MDP)"
   ]
  },
  {
   "cell_type": "markdown",
   "metadata": {},
   "source": [
    "# Problem 2: TD$(\\lambda)$\n",
    "\n",
    "Implement the TD(λ) Prediction algorithm from scratch in Python code. First do it for the Tabular case, then do it for the case of Function Approximation.\n",
    "\n",
    "I want to first go through the rough idea of TD($\\lambda$) since it is not as straight forward as the rest of the prediction algorithms. First of all there are actually 2 methods for doing this. The first one is the forward method which is effctively averging over all of the different n's in the n - bootstrapping method. It is not an exact average. we use a geometric decay for how the differet components calculate the lambda return. However to update all of the values we need to get to the end of the episode. Thus this approach is not used in real life. **Introducing Backwards TD($lambda$):** This method accomplishes a similiar goal as the forward method, but we can continuously update it. For this we introduce the elgibility trace. For a tabular method we introduce this as a dictionary. for each state we have this eligibility value. As we run through our traces every time we visit a state we increase the eligibility value by 1. Separately, everytime we change from state we multiply the eligbibility value of all of the states times the lambda value. thus the eligibility value decays over time:"
   ]
  },
  {
   "cell_type": "markdown",
   "metadata": {},
   "source": [
    "We can represent the eligibility trace as a function that starts at 0 and increases with time.:\n",
    "\n",
    "\\begin{equation}\n",
    "E_t(s) = \\gamma \\lambda E_{t-1}(s) + 1(S_t = s)\n",
    "\\end{equation}\n",
    "\n",
    "We can then update "
   ]
  },
  {
   "cell_type": "code",
   "execution_count": 129,
   "metadata": {},
   "outputs": [
    {
     "name": "stdout",
     "output_type": "stream",
     "text": [
      "Value Function & Number of Rewards per Non-Terminal States\n",
      "\n",
      "Village_State(num_villagers_alive=1, Vampire_is_alive=True) 0.0  Number of Visits to State: 3108\n",
      "Village_State(num_villagers_alive=2, Vampire_is_alive=True) 0.49794238683127556  Number of Visits to State: 3402\n",
      "Village_State(num_villagers_alive=3, Vampire_is_alive=True) 0.6664546899841004  Number of Visits to State: 3145\n",
      "Village_State(num_villagers_alive=4, Vampire_is_alive=True) 1.1202056188832106  Number of Visits to State: 3171\n",
      "Village_State(num_villagers_alive=5, Vampire_is_alive=True) 1.2738994235059986  Number of Visits to State: 2571\n",
      "Village_State(num_villagers_alive=6, Vampire_is_alive=True) 1.8091604662471554  Number of Visits to State: 2598\n",
      "Village_State(num_villagers_alive=7, Vampire_is_alive=True) 1.9720800568938877  Number of Visits to State: 1850\n",
      "Village_State(num_villagers_alive=8, Vampire_is_alive=True) 2.448498085840534  Number of Visits to State: 1888\n",
      "Village_State(num_villagers_alive=9, Vampire_is_alive=True) 2.5404497592955737  Number of Visits to State: 959\n",
      "Village_State(num_villagers_alive=10, Vampire_is_alive=True) 3.1763869086901737  Number of Visits to State: 998\n",
      "Village_State(num_villagers_alive=0, Vampire_is_alive=True) 0.0  Number of Visits to State: 0\n"
     ]
    }
   ],
   "source": [
    "S = TypeVar('S')\n",
    "A = TypeVar('A')\n",
    "value_function = TypeVar('V')\n",
    "\n",
    "policy,start_distribution,approx_0 = generate_policy_and_start_distribution(10)\n",
    "num_visits= approx_0.copy()\n",
    "\n",
    "#Create Function:\n",
    "def TD_Lambda_prediction_tabular(\n",
    "    traces: Iterable[Iterable[mp.TransitionStep[S]]],\n",
    "    approx_0: Dict[S,value_function],\n",
    "    lambda_value : float,\n",
    "    gamma: float,\n",
    "    num_visits: Dict[S,int]) -> Dict[S,value_function]:\n",
    "    \n",
    "    \"\"\"The main difference between this prediction and the one from the code base is that we are\n",
    "        now representing the approximate value function as a dictionary. Instead of updating the function using the\n",
    "        iterate updates method we will now write code to do that. The function will return a new approx_0\n",
    "        that should be a better value function.\"\"\"  \n",
    "    \n",
    "    eligibility_trace = num_visits.copy()\n",
    "    \n",
    "    \n",
    "    total_accumulated_reward = {}\n",
    "    \n",
    "    #Loop through all of the individual trial runs\n",
    "    for trace in traces:\n",
    "        COLOR = iter(cm.rainbow(np.linspace(0,1,len(approx_0))))\n",
    "        \n",
    "        for key in eligibility_trace.keys():\n",
    "            eligibility_trace[key] = 0\n",
    "        \n",
    "        #Loop through all of the individual state transitions\n",
    "        for n,transition in enumerate(trace):\n",
    "        \n",
    "            #Update eligibility trace by 1 for state we visited    \n",
    "            eligibility_trace[transition.state] = eligibility_trace[transition.state] + 1\n",
    "                \n",
    "            #Since we are in some state rn update that state with the visit number\n",
    "            num_visits[transition.state] = num_visits[transition.state] + 1\n",
    "            \n",
    "            #TD error value (delta)\n",
    "            TD_error =  (transition.reward +gamma*approx_0[transition.next_state] - approx_0[transition.state])\n",
    "            \n",
    "            alpha =  1/(num_visits[transition.state])\n",
    "            \n",
    "            #approx_0[transition.state] += alpha * TD_error * eligibility_trace[transition.state]\n",
    "            \n",
    "            for key in approx_0.keys():\n",
    "                approx_0[key] += alpha * TD_error * eligibility_trace[key]\n",
    "                eligibility_trace[key] = eligibility_trace[key] * lambda_value * gamma\n",
    "\n",
    "\n",
    "                    \n",
    "#         for x in approx_0:\n",
    "#             color = next(COLOR)\n",
    "#             if x.Vampire_is_alive:\n",
    "#                 plt.plot(num_visits[x],approx_0[x],marker='.',color=color)\n",
    "                \n",
    "    return approx_0,num_visits\n",
    "\n",
    "approx_0,num_visits = TD_Lambda_prediction_tabular(traces=traces,approx_0=approx_0,lambda_value=.9,gamma=1,num_visits=num_visits)\n",
    "\n",
    "print (\"Value Function & Number of Rewards per Non-Terminal States\")\n",
    "print ()\n",
    "for x in approx_0:\n",
    "    if x.Vampire_is_alive:\n",
    "        print (x,approx_0[x],\" Number of Visits to State:\",num_visits[x])"
   ]
  },
  {
   "cell_type": "markdown",
   "metadata": {},
   "source": [
    "# Problem 3: MC & TD equivalence proof\n",
    "\n",
    "Prove that the MC Error can be written as the sum of discounted TD errors\n",
    "\n",
    "\\begin{equation}\n",
    "G_t - V(S_t) = \\sum_{u=t}^{T-1} \\gamma^{u-t} \\cdot (R_{u+1} +\\gamma \\cdot V(S_{u+1}) - V(S_u))\n",
    "\\end{equation}\n",
    "\n",
    "First, let's define some terms:\n",
    "\n",
    "Return: $G_t = R_{t+1} + \\gamma R_{t+2} + \\gamma^2 R_{t+3} + \\gamma^3 R_{t+4} + ...$\n",
    "\n",
    "Value Function: (Expected Return): $V(S_T) = $"
   ]
  },
  {
   "cell_type": "markdown",
   "metadata": {},
   "source": []
  },
  {
   "cell_type": "markdown",
   "metadata": {},
   "source": [
    "# Problem 4: Testing out algorithm performance\n",
    "\n",
    "Test your above implementation of TD(λ) Prediction algorithm by comparing the Value Function\n",
    "of an MRP you have previously developed (or worked with) as obtained by Policy Evaluation (DP)\n",
    "algorithm, as obtained by MC, as obtained by TD, and as obtained by your TD(λ) implementation.\n",
    "Plot graphs of convergence for different values of λ"
   ]
  },
  {
   "cell_type": "code",
   "execution_count": null,
   "metadata": {},
   "outputs": [],
   "source": []
  }
 ],
 "metadata": {
  "kernelspec": {
   "display_name": "Python 3",
   "language": "python",
   "name": "python3"
  },
  "language_info": {
   "codemirror_mode": {
    "name": "ipython",
    "version": 3
   },
   "file_extension": ".py",
   "mimetype": "text/x-python",
   "name": "python",
   "nbconvert_exporter": "python",
   "pygments_lexer": "ipython3",
   "version": "3.7.9"
  }
 },
 "nbformat": 4,
 "nbformat_minor": 4
}
